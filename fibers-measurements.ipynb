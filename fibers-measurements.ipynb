{
 "cells": [
  {
   "cell_type": "markdown",
   "id": "671acc83",
   "metadata": {},
   "source": [
    "## Pseudocode\n",
    "\n",
    "* Open jpg file\n",
    "* identify specimen and muscle labels\n",
    "* store labels in a dataframe (specimen labels in rows, muscle labels in columns)\n",
    "* identify fibers\n",
    "* identify scale (or set up standard scale length)\n",
    "* measure fiber lengths based on scale\n",
    "* store fiber measurements\n",
    "* basic statistics"
   ]
  },
  {
   "cell_type": "code",
   "execution_count": 1,
   "id": "2245110c",
   "metadata": {},
   "outputs": [],
   "source": [
    "import os\n",
    "import matplotlib.pyplot as plt\n",
    "import pandas as pd\n",
    "import cv2 as cv\n",
    "import numpy as np\n",
    "from plantcv import plantcv as pcv"
   ]
  },
  {
   "cell_type": "code",
   "execution_count": 2,
   "id": "be7c21c9",
   "metadata": {},
   "outputs": [],
   "source": [
    "np.set_printoptions(threshold=np.inf)"
   ]
  },
  {
   "cell_type": "code",
   "execution_count": 3,
   "id": "06f15d99",
   "metadata": {},
   "outputs": [],
   "source": [
    "#define a custom class to read filename from cv.imread\n",
    "class MyImage:\n",
    "    def __init__(self, img_name):\n",
    "        self.img = cv.imread(img_name, cv.IMREAD_GRAYSCALE)\n",
    "        self.__name = img_name\n",
    "\n",
    "    def __str__(self):\n",
    "        return self.__name"
   ]
  },
  {
   "cell_type": "code",
   "execution_count": 153,
   "id": "99b4ce1a",
   "metadata": {},
   "outputs": [
    {
     "data": {
      "text/plain": [
       "'AAG 77 (MCA).jpg'"
      ]
     },
     "execution_count": 153,
     "metadata": {},
     "output_type": "execute_result"
    }
   ],
   "source": [
    "img = MyImage('AAG 77 (MCA).jpg')\n",
    "str(img)"
   ]
  },
  {
   "cell_type": "markdown",
   "id": "485b4651",
   "metadata": {},
   "source": [
    "# Get scale calibration"
   ]
  },
  {
   "cell_type": "code",
   "execution_count": 4,
   "id": "99fb498d",
   "metadata": {},
   "outputs": [],
   "source": [
    "def scale_calibration(img):\n",
    "    #read img\n",
    "    scale = cv.imread(img, cv.IMREAD_GRAYSCALE)\n",
    "    #invert background\n",
    "    scale = 255 - scale\n",
    "    #binarize img\n",
    "    _, scale_bin = cv.threshold(scale, 40, 255, cv.THRESH_BINARY)\n",
    "    #get bounding rectangle to get width of the scale\n",
    "    x, y, w, h = cv.boundingRect(scale_bin) \n",
    "    #define calibration (known distance / distance in pixels of scale)\n",
    "    calibration = 0.5 / w\n",
    "    #plot bounding rectangle to debug\n",
    "    plt.imshow(cv.rectangle(scale, cv.boundingRect(scale_bin), (255, 255, 0), 2))\n",
    "    \n",
    "    return calibration"
   ]
  },
  {
   "cell_type": "code",
   "execution_count": 6,
   "id": "884a250c",
   "metadata": {},
   "outputs": [
    {
     "data": {
      "text/plain": [
       "0.001968503937007874"
      ]
     },
     "execution_count": 6,
     "metadata": {},
     "output_type": "execute_result"
    },
    {
     "data": {
      "image/png": "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\n",
      "text/plain": [
       "<Figure size 432x288 with 1 Axes>"
      ]
     },
     "metadata": {
      "needs_background": "light"
     },
     "output_type": "display_data"
    }
   ],
   "source": [
    "calibration = scale_calibration('scale.PNG')\n",
    "calibration"
   ]
  },
  {
   "cell_type": "markdown",
   "id": "658f6511",
   "metadata": {},
   "source": [
    "# Processing image"
   ]
  },
  {
   "cell_type": "code",
   "execution_count": 7,
   "id": "51ee4554",
   "metadata": {},
   "outputs": [],
   "source": [
    "def fiberLen(img, calibration, size = 200, plot = True):\n",
    "\n",
    "    #read img\n",
    "    fiber = MyImage(img)\n",
    "    \n",
    "    #store filename\n",
    "    filename = str(img)\n",
    "    \n",
    "    #invert background to get white pixels on black background\n",
    "    fiber = 255 - fiber.img\n",
    "    \n",
    "    #dilate then erode to connect disconnected pixels\n",
    "    fiber = cv.dilate(fiber, None, iterations = 1)\n",
    "    fiber = cv.erode(fiber, None, iterations = 1)\n",
    "    \n",
    "    #threshold image\n",
    "    _, fiber_bin = cv.threshold(fiber, 40, 255, cv.THRESH_BINARY)\n",
    "\n",
    "    #binarize img transforming pixel values to 0s and 1s\n",
    "    height, width = fiber_bin.shape\n",
    "    for i in range(height):\n",
    "        for j in range(width):\n",
    "            fiber_bin[i][j] = 1 if fiber_bin[i][j] == 255 else 0\n",
    "\n",
    "    #skeletonize img\n",
    "    fiber_skel = pcv.morphology.skeletonize(fiber_bin) #pcv skeletonize returns 0 and 1 img / skimage skel returns True and False values\n",
    "    \n",
    "    #get contours\n",
    "    contours, hierarchy = cv.findContours(fiber_skel, cv.RETR_TREE, cv.CHAIN_APPROX_SIMPLE)\n",
    "    \n",
    "    #get only contours of fibers (which usually will be greater than 200)\n",
    "    fiber_contours = [c for c in contours if cv.arcLength(c, False) > size]\n",
    "    \n",
    "    #initialize lists to store variables\n",
    "    measurement = []\n",
    "    label_coord_x = []\n",
    "    label_coord_y = []\n",
    "\n",
    "    #get contour perimeter, divide it by 2 and multiply by calibration factor\n",
    "    for i, cnt in enumerate(fiber_contours):\n",
    "        measurement.append(float(cv.arcLength(fiber_contours[i], False) / 2) * calibration)\n",
    "        #get coordinates if plot is True\n",
    "        if plot is True:\n",
    "            label_coord_x.append(fiber_contours[i][0][0][0]) #get first pixel of contours\n",
    "            label_coord_y.append(fiber_contours[i][0][0][1]) #get second pixel of contours\n",
    "        \n",
    "    #plot fiber measurements if plot is True\n",
    "    if plot is True:\n",
    "        fiber_copy = fiber.copy()\n",
    "        #loop through measurement values\n",
    "        for i, value in enumerate(measurement):\n",
    "            text = f\"{i}: \"\"{:.2f}\".format(value)\n",
    "            x = label_coord_x[i]\n",
    "            y = label_coord_y[i]\n",
    "            #put measurement labels in image\n",
    "            cv.putText(fiber_copy, text = text, org = (x, y), \n",
    "                       fontFace = cv.FONT_HERSHEY_SIMPLEX, \n",
    "                       fontScale = 1,\n",
    "                       color = (150, 150, 150),\n",
    "                       thickness = 2)\n",
    "        plt.imshow(fiber_copy)\n",
    "\n",
    "        \n",
    "    return [filename, np.mean(measurement)]"
   ]
  },
  {
   "cell_type": "code",
   "execution_count": 156,
   "id": "7ea0dc41",
   "metadata": {},
   "outputs": [
    {
     "data": {
      "text/plain": [
       "['AAGUFU 60 (MDE).jpg', 0.2825904813711154]"
      ]
     },
     "execution_count": 156,
     "metadata": {},
     "output_type": "execute_result"
    },
    {
     "data": {
      "image/png": "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\n",
      "text/plain": [
       "<Figure size 432x288 with 1 Axes>"
      ]
     },
     "metadata": {
      "needs_background": "light"
     },
     "output_type": "display_data"
    }
   ],
   "source": [
    "fiberLen('AAGUFU 60 (MDE).jpg', calibration, size = 200, plot = True)"
   ]
  },
  {
   "cell_type": "markdown",
   "id": "d1265812",
   "metadata": {},
   "source": [
    "# Processing storage"
   ]
  },
  {
   "cell_type": "code",
   "execution_count": 11,
   "id": "69d06f78",
   "metadata": {},
   "outputs": [],
   "source": [
    "test = []"
   ]
  },
  {
   "cell_type": "code",
   "execution_count": 12,
   "id": "45cc8dcf",
   "metadata": {},
   "outputs": [],
   "source": [
    "# loop through files in current working dir\n",
    "for file in os.listdir():\n",
    "    if file.endswith('.jpg'): #or .png or another img extension\n",
    "        test.append(fiberLen(file, calibration, plot = False))"
   ]
  },
  {
   "cell_type": "code",
   "execution_count": 13,
   "id": "2fd70a0d",
   "metadata": {},
   "outputs": [
    {
     "data": {
      "text/plain": [
       "[['AAG 77 (MCE).jpg', 0.29214559626860875],\n",
       " ['AAG 77 (MCP).jpg', 0.3648501507409915],\n",
       " ['AAG 77 (MDE).jpg', 0.4090270452533807],\n",
       ],
     },
     "execution_count": 13,
     "metadata": {},
     "output_type": "execute_result"
    }
   ],
   "source": [
    "test"
   ]
  },
  {
   "cell_type": "code",
   "execution_count": 14,
   "id": "42746804",
   "metadata": {},
   "outputs": [
    {
     "data": {
      "text/html": [
       "<div>\n",
       "<style scoped>\n",
       "    .dataframe tbody tr th:only-of-type {\n",
       "        vertical-align: middle;\n",
       "    }\n",
       "\n",
       "    .dataframe tbody tr th {\n",
       "        vertical-align: top;\n",
       "    }\n",
       "\n",
       "    .dataframe thead th {\n",
       "        text-align: right;\n",
       "    }\n",
       "</style>\n",
       "<table border=\"1\" class=\"dataframe\">\n",
       "  <thead>\n",
       "    <tr style=\"text-align: right;\">\n",
       "      <th></th>\n",
       "      <th>specimen</th>\n",
       "      <th>value</th>\n",
       "    </tr>\n",
       "  </thead>\n",
       "  <tbody>\n",
       "    <tr>\n",
       "      <th>0</th>\n",
       "      <td>AAG 77 (MCE).jpg</td>\n",
       "      <td>0.292146</td>\n",
       "    </tr>\n",
       "    <tr>\n",
       "      <th>1</th>\n",
       "      <td>AAG 77 (MCP).jpg</td>\n",
       "      <td>0.364850</td>\n",
       "    </tr>\n",
       "    <tr>\n",
       "      <th>2</th>\n",
       "      <td>AAG 77 (MDE).jpg</td>\n",
       "      <td>0.409027</td>\n",
       "    </tr>\n",
       "    <tr>\n",
       "      <th>3</th>\n",
       "      <td>AAGUFU 101 (MCA).jpg</td>\n",
       "      <td>0.333411</td>\n",
       "    </tr>\n",
       "    <tr>\n",
       "      <th>4</th>\n",
       "      <td>AAGUFU 101 (MCE).jpg</td>\n",
       "      <td>0.285225</td>\n",
       "    </tr>\n",
       "    <tr>\n",
       "      <th>...</th>\n",
       "      <td>...</td>\n",
       "      <td>...</td>\n",
       "    </tr>\n",
       "    <tr>\n",
       "      <th>237</th>\n",
       "      <td>UFMG 767 (MDE).jpg</td>\n",
       "      <td>0.309469</td>\n",
       "    </tr>\n",
       "    <tr>\n",
       "      <th>238</th>\n",
       "      <td>UFMG 771 (MCA).jpg</td>\n",
       "      <td>0.371820</td>\n",
       "    </tr>\n",
       "    <tr>\n",
       "      <th>239</th>\n",
       "      <td>UFMG 771 (MCE).jpg</td>\n",
       "      <td>0.255006</td>\n",
       "    </tr>\n",
       "    <tr>\n",
       "      <th>240</th>\n",
       "      <td>UFMG 771 (MCP).jpg</td>\n",
       "      <td>0.399443</td>\n",
       "    </tr>\n",
       "    <tr>\n",
       "      <th>241</th>\n",
       "      <td>UFMG 771 (MDE).jpg</td>\n",
       "      <td>0.237635</td>\n",
       "    </tr>\n",
       "  </tbody>\n",
       "</table>\n",
       "<p>242 rows × 2 columns</p>\n",
       "</div>"
      ],
      "text/plain": [
       "                 specimen     value\n",
       "0        AAG 77 (MCE).jpg  0.292146\n",
       "1        AAG 77 (MCP).jpg  0.364850\n",
       "2        AAG 77 (MDE).jpg  0.409027\n",
       "3    AAGUFU 101 (MCA).jpg  0.333411\n",
       "4    AAGUFU 101 (MCE).jpg  0.285225\n",
       "..                    ...       ...\n",
       "237    UFMG 767 (MDE).jpg  0.309469\n",
       "238    UFMG 771 (MCA).jpg  0.371820\n",
       "239    UFMG 771 (MCE).jpg  0.255006\n",
       "240    UFMG 771 (MCP).jpg  0.399443\n",
       "241    UFMG 771 (MDE).jpg  0.237635\n",
       "\n",
       "[242 rows x 2 columns]"
      ]
     },
     "execution_count": 14,
     "metadata": {},
     "output_type": "execute_result"
    }
   ],
   "source": [
    "#create dataframe\n",
    "df = pd.DataFrame(columns = ['specimen', 'value'], data=test)\n",
    "df"
   ]
  },
  {
   "cell_type": "code",
   "execution_count": 15,
   "id": "10a11e89",
   "metadata": {},
   "outputs": [],
   "source": [
    "df['muscle'] = df['specimen'].apply(lambda s: s[s.find('(') + 1:s.find(')')])\n",
    "df['specimen'] = df['specimen'].apply(lambda s: s[:s.find(' (')].replace(\" \", \"_\"))"
   ]
  },
  {
   "cell_type": "code",
   "execution_count": 16,
   "id": "348b6da6",
   "metadata": {},
   "outputs": [
    {
     "data": {
      "text/html": [
       "<div>\n",
       "<style scoped>\n",
       "    .dataframe tbody tr th:only-of-type {\n",
       "        vertical-align: middle;\n",
       "    }\n",
       "\n",
       "    .dataframe tbody tr th {\n",
       "        vertical-align: top;\n",
       "    }\n",
       "\n",
       "    .dataframe thead th {\n",
       "        text-align: right;\n",
       "    }\n",
       "</style>\n",
       "<table border=\"1\" class=\"dataframe\">\n",
       "  <thead>\n",
       "    <tr style=\"text-align: right;\">\n",
       "      <th></th>\n",
       "      <th>specimen</th>\n",
       "      <th>value</th>\n",
       "      <th>muscle</th>\n",
       "    </tr>\n",
       "  </thead>\n",
       "  <tbody>\n",
       "    <tr>\n",
       "      <th>0</th>\n",
       "      <td>AAG_77</td>\n",
       "      <td>0.292146</td>\n",
       "      <td>MCE</td>\n",
       "    </tr>\n",
       "    <tr>\n",
       "      <th>1</th>\n",
       "      <td>AAG_77</td>\n",
       "      <td>0.364850</td>\n",
       "      <td>MCP</td>\n",
       "    </tr>\n",
       "    <tr>\n",
       "      <th>2</th>\n",
       "      <td>AAG_77</td>\n",
       "      <td>0.409027</td>\n",
       "      <td>MDE</td>\n",
       "    </tr>\n",
       "    <tr>\n",
       "      <th>3</th>\n",
       "      <td>AAGUFU_101</td>\n",
       "      <td>0.333411</td>\n",
       "      <td>MCA</td>\n",
       "    </tr>\n",
       "    <tr>\n",
       "      <th>4</th>\n",
       "      <td>AAGUFU_101</td>\n",
       "      <td>0.285225</td>\n",
       "      <td>MCE</td>\n",
       "    </tr>\n",
       "    <tr>\n",
       "      <th>...</th>\n",
       "      <td>...</td>\n",
       "      <td>...</td>\n",
       "      <td>...</td>\n",
       "    </tr>\n",
       "    <tr>\n",
       "      <th>237</th>\n",
       "      <td>UFMG_767</td>\n",
       "      <td>0.309469</td>\n",
       "      <td>MDE</td>\n",
       "    </tr>\n",
       "    <tr>\n",
       "      <th>238</th>\n",
       "      <td>UFMG_771</td>\n",
       "      <td>0.371820</td>\n",
       "      <td>MCA</td>\n",
       "    </tr>\n",
       "    <tr>\n",
       "      <th>239</th>\n",
       "      <td>UFMG_771</td>\n",
       "      <td>0.255006</td>\n",
       "      <td>MCE</td>\n",
       "    </tr>\n",
       "    <tr>\n",
       "      <th>240</th>\n",
       "      <td>UFMG_771</td>\n",
       "      <td>0.399443</td>\n",
       "      <td>MCP</td>\n",
       "    </tr>\n",
       "    <tr>\n",
       "      <th>241</th>\n",
       "      <td>UFMG_771</td>\n",
       "      <td>0.237635</td>\n",
       "      <td>MDE</td>\n",
       "    </tr>\n",
       "  </tbody>\n",
       "</table>\n",
       "<p>242 rows × 3 columns</p>\n",
       "</div>"
      ],
      "text/plain": [
       "       specimen     value muscle\n",
       "0        AAG_77  0.292146    MCE\n",
       "1        AAG_77  0.364850    MCP\n",
       "2        AAG_77  0.409027    MDE\n",
       "3    AAGUFU_101  0.333411    MCA\n",
       "4    AAGUFU_101  0.285225    MCE\n",
       "..          ...       ...    ...\n",
       "237    UFMG_767  0.309469    MDE\n",
       "238    UFMG_771  0.371820    MCA\n",
       "239    UFMG_771  0.255006    MCE\n",
       "240    UFMG_771  0.399443    MCP\n",
       "241    UFMG_771  0.237635    MDE\n",
       "\n",
       "[242 rows x 3 columns]"
      ]
     },
     "execution_count": 16,
     "metadata": {},
     "output_type": "execute_result"
    }
   ],
   "source": [
    "df"
   ]
  },
  {
   "cell_type": "code",
   "execution_count": 17,
   "id": "24cdb833",
   "metadata": {},
   "outputs": [
    {
     "data": {
      "text/html": [
       "<div>\n",
       "<style scoped>\n",
       "    .dataframe tbody tr th:only-of-type {\n",
       "        vertical-align: middle;\n",
       "    }\n",
       "\n",
       "    .dataframe tbody tr th {\n",
       "        vertical-align: top;\n",
       "    }\n",
       "\n",
       "    .dataframe thead th {\n",
       "        text-align: right;\n",
       "    }\n",
       "</style>\n",
       "<table border=\"1\" class=\"dataframe\">\n",
       "  <thead>\n",
       "    <tr style=\"text-align: right;\">\n",
       "      <th>muscle</th>\n",
       "      <th>MCA</th>\n",
       "      <th>MCAD</th>\n",
       "      <th>MCE</th>\n",
       "      <th>MCED</th>\n",
       "      <th>MCP</th>\n",
       "      <th>MCPD</th>\n",
       "      <th>MDD</th>\n",
       "      <th>MDE</th>\n",
       "    </tr>\n",
       "    <tr>\n",
       "      <th>specimen</th>\n",
       "      <th></th>\n",
       "      <th></th>\n",
       "      <th></th>\n",
       "      <th></th>\n",
       "      <th></th>\n",
       "      <th></th>\n",
       "      <th></th>\n",
       "      <th></th>\n",
       "    </tr>\n",
       "  </thead>\n",
       "  <tbody>\n",
       "    <tr>\n",
       "      <th>AAGUFU_101</th>\n",
       "      <td>0.333411</td>\n",
       "      <td>NaN</td>\n",
       "      <td>0.285225</td>\n",
       "      <td>NaN</td>\n",
       "      <td>0.368999</td>\n",
       "      <td>NaN</td>\n",
       "      <td>NaN</td>\n",
       "      <td>0.341156</td>\n",
       "    </tr>\n",
       "    <tr>\n",
       "      <th>AAGUFU_1019</th>\n",
       "      <td>0.424388</td>\n",
       "      <td>NaN</td>\n",
       "      <td>0.290534</td>\n",
       "      <td>NaN</td>\n",
       "      <td>0.456301</td>\n",
       "      <td>NaN</td>\n",
       "      <td>NaN</td>\n",
       "      <td>0.376541</td>\n",
       "    </tr>\n",
       "    <tr>\n",
       "      <th>AAGUFU_104</th>\n",
       "      <td>0.478596</td>\n",
       "      <td>NaN</td>\n",
       "      <td>0.328570</td>\n",
       "      <td>NaN</td>\n",
       "      <td>0.502013</td>\n",
       "      <td>NaN</td>\n",
       "      <td>NaN</td>\n",
       "      <td>0.371217</td>\n",
       "    </tr>\n",
       "    <tr>\n",
       "      <th>AAGUFU_24</th>\n",
       "      <td>0.317202</td>\n",
       "      <td>NaN</td>\n",
       "      <td>0.288727</td>\n",
       "      <td>NaN</td>\n",
       "      <td>0.349963</td>\n",
       "      <td>NaN</td>\n",
       "      <td>NaN</td>\n",
       "      <td>0.219159</td>\n",
       "    </tr>\n",
       "    <tr>\n",
       "      <th>AAGUFU_26</th>\n",
       "      <td>0.354747</td>\n",
       "      <td>NaN</td>\n",
       "      <td>0.285295</td>\n",
       "      <td>NaN</td>\n",
       "      <td>0.415511</td>\n",
       "      <td>NaN</td>\n",
       "      <td>NaN</td>\n",
       "      <td>0.356564</td>\n",
       "    </tr>\n",
       "    <tr>\n",
       "      <th>...</th>\n",
       "      <td>...</td>\n",
       "      <td>...</td>\n",
       "      <td>...</td>\n",
       "      <td>...</td>\n",
       "      <td>...</td>\n",
       "      <td>...</td>\n",
       "      <td>...</td>\n",
       "      <td>...</td>\n",
       "    </tr>\n",
       "    <tr>\n",
       "      <th>UFMG_4235</th>\n",
       "      <td>0.244751</td>\n",
       "      <td>NaN</td>\n",
       "      <td>0.257292</td>\n",
       "      <td>NaN</td>\n",
       "      <td>0.278955</td>\n",
       "      <td>NaN</td>\n",
       "      <td>NaN</td>\n",
       "      <td>0.280532</td>\n",
       "    </tr>\n",
       "    <tr>\n",
       "      <th>UFMG_4991</th>\n",
       "      <td>0.281370</td>\n",
       "      <td>NaN</td>\n",
       "      <td>NaN</td>\n",
       "      <td>NaN</td>\n",
       "      <td>0.295972</td>\n",
       "      <td>NaN</td>\n",
       "      <td>NaN</td>\n",
       "      <td>0.311841</td>\n",
       "    </tr>\n",
       "    <tr>\n",
       "      <th>UFMG_7050</th>\n",
       "      <td>0.228573</td>\n",
       "      <td>NaN</td>\n",
       "      <td>0.274117</td>\n",
       "      <td>NaN</td>\n",
       "      <td>0.309067</td>\n",
       "      <td>NaN</td>\n",
       "      <td>NaN</td>\n",
       "      <td>0.280693</td>\n",
       "    </tr>\n",
       "    <tr>\n",
       "      <th>UFMG_767</th>\n",
       "      <td>0.407212</td>\n",
       "      <td>NaN</td>\n",
       "      <td>0.341346</td>\n",
       "      <td>NaN</td>\n",
       "      <td>0.417924</td>\n",
       "      <td>NaN</td>\n",
       "      <td>NaN</td>\n",
       "      <td>0.309469</td>\n",
       "    </tr>\n",
       "    <tr>\n",
       "      <th>UFMG_771</th>\n",
       "      <td>0.371820</td>\n",
       "      <td>NaN</td>\n",
       "      <td>0.255006</td>\n",
       "      <td>NaN</td>\n",
       "      <td>0.399443</td>\n",
       "      <td>NaN</td>\n",
       "      <td>NaN</td>\n",
       "      <td>0.237635</td>\n",
       "    </tr>\n",
       "  </tbody>\n",
       "</table>\n",
       "<p>65 rows × 8 columns</p>\n",
       "</div>"
      ],
      "text/plain": [
       "muscle            MCA  MCAD       MCE  MCED       MCP  MCPD  MDD       MDE\n",
       "specimen                                                                  \n",
       "AAGUFU_101   0.333411   NaN  0.285225   NaN  0.368999   NaN  NaN  0.341156\n",
       "AAGUFU_1019  0.424388   NaN  0.290534   NaN  0.456301   NaN  NaN  0.376541\n",
       "AAGUFU_104   0.478596   NaN  0.328570   NaN  0.502013   NaN  NaN  0.371217\n",
       "AAGUFU_24    0.317202   NaN  0.288727   NaN  0.349963   NaN  NaN  0.219159\n",
       "AAGUFU_26    0.354747   NaN  0.285295   NaN  0.415511   NaN  NaN  0.356564\n",
       "...               ...   ...       ...   ...       ...   ...  ...       ...\n",
       "UFMG_4235    0.244751   NaN  0.257292   NaN  0.278955   NaN  NaN  0.280532\n",
       "UFMG_4991    0.281370   NaN       NaN   NaN  0.295972   NaN  NaN  0.311841\n",
       "UFMG_7050    0.228573   NaN  0.274117   NaN  0.309067   NaN  NaN  0.280693\n",
       "UFMG_767     0.407212   NaN  0.341346   NaN  0.417924   NaN  NaN  0.309469\n",
       "UFMG_771     0.371820   NaN  0.255006   NaN  0.399443   NaN  NaN  0.237635\n",
       "\n",
       "[65 rows x 8 columns]"
      ]
     },
     "execution_count": 17,
     "metadata": {},
     "output_type": "execute_result"
    }
   ],
   "source": [
    "df.pivot(index='specimen', columns='muscle', values='value')"
   ]
  },
  {
   "cell_type": "code",
   "execution_count": null,
   "id": "4bed4677",
   "metadata": {},
   "outputs": [],
   "source": []
  }
 ],
 "metadata": {
  "kernelspec": {
   "display_name": "Python 3 (ipykernel)",
   "language": "python",
   "name": "python3"
  },
  "language_info": {
   "codemirror_mode": {
    "name": "ipython",
    "version": 3
   },
   "file_extension": ".py",
   "mimetype": "text/x-python",
   "name": "python",
   "nbconvert_exporter": "python",
   "pygments_lexer": "ipython3",
   "version": "3.9.7"
  }
 },
 "nbformat": 4,
 "nbformat_minor": 5
}
